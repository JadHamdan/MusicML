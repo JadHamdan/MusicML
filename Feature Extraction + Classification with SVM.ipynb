{
 "cells": [
  {
   "cell_type": "code",
   "execution_count": 60,
   "metadata": {},
   "outputs": [],
   "source": [
    "import numpy as np\n",
    "import librosa\n",
    "import librosa.display\n",
    "import csv\n",
    "import pandas as pd\n",
    "\n",
    "import itertools\n",
    "import os\n",
    "import h5py\n",
    "%matplotlib inline\n",
    "import matplotlib.pyplot as plt\n",
    "from collections import OrderedDict\n",
    "from keras.utils import to_categorical\n",
    "from sklearn.model_selection import train_test_split\n",
    "from sklearn.metrics import confusion_matrix\n",
    "from sklearn.preprocessing import LabelEncoder, StandardScaler\n",
    "\n",
    "import torch \n",
    "import torchvision\n",
    "import torch.nn as nn\n",
    "import torch.nn.functional as F\n",
    "import torchvision.transforms as transforms\n",
    "\n",
    "from keras.models import Sequential\n",
    "from keras.layers import Dense\n",
    "from keras.layers import Activation\n",
    "from keras.layers import Conv2D\n",
    "from keras.layers import MaxPooling2D\n",
    "from keras.layers import Dropout\n",
    "from keras.layers import Flatten\n",
    "from keras.layers import BatchNormalization\n",
    "\n",
    "from sklearn import svm\n",
    "from sklearn.ensemble import RandomForestClassifier\n",
    "from sklearn.ensemble import AdaBoostClassifier"
   ]
  },
  {
   "cell_type": "code",
   "execution_count": 18,
   "metadata": {},
   "outputs": [],
   "source": [
    "M = lambda x: np.mean(x)"
   ]
  },
  {
   "cell_type": "code",
   "execution_count": 31,
   "metadata": {},
   "outputs": [],
   "source": [
    "zero_crossing_rate = lambda x: M(librosa.feature.zero_crossing_rate(x, pad=False)) \n",
    "spectral_centroid = lambda x: M(librosa.feature.spectral_centroid(x))\n",
    "chroma_stft = lambda x: M(librosa.feature.chroma_stft(x, pad=False))\n",
    "spectral_bw = lambda x: M(librosa.feature.spectral_bandwidth(x))\n",
    "spectral_rolloff = lambda x: M(librosa.feature.spectral_rolloff(x))\n",
    "mfcc = lambda x: librosa.feature.mfcc(x)\n",
    "def create_line(file_name, sg, genre):\n",
    "    line = f' {file_name} {zero_crossing_rate(sg)} {spectral_centroid(sg)} {spectral_bw(sg)} {spectral_rolloff(sg)}'\n",
    "    A = mfcc(sg)\n",
    "    for y in A:\n",
    "        line += f' {M(y)}'\n",
    "    line += f' {genre}'\n",
    "    return line"
   ]
  },
  {
   "cell_type": "code",
   "execution_count": 38,
   "metadata": {},
   "outputs": [],
   "source": [
    "data_path = '/Users/jadhamdan/Desktop/Final Project/data.csv'\n",
    "header = '.. .. filename zero_crossing_rate spectral_centroid spectral_bandwidth spectral_rolloff'\n",
    "for i in range(1,21):\n",
    "    header += f' mfcc{i}' \n",
    "header += ' label'\n",
    "header = header.split()"
   ]
  },
  {
   "cell_type": "code",
   "execution_count": 39,
   "metadata": {},
   "outputs": [],
   "source": [
    "file = open(data_path, 'w', newline='')\n",
    "with file:\n",
    "    writer = csv.writer(file)\n",
    "    writer.writerow(header)\n",
    "genres = {'metal': 0, 'disco': 1, 'classical': 2, 'hiphop': 3, 'jazz': 4, \n",
    "        'country': 5, 'pop': 6, 'blues': 7, 'reggae': 8, 'rock': 9}\n",
    "for x,_ in genres.items():\n",
    "    folder = source + x\n",
    "\n",
    "    for root, subdirs, files in os.walk(folder):\n",
    "        for file in files:\n",
    "            file_name = folder + \"/\" + file\n",
    "            sg, sr = librosa.load(file_name, mono=True, duration=30)\n",
    "            \n",
    "            line = create_line(file_name, sg, x)\n",
    "            file = open(data_path, 'a', newline='')\n",
    "            with file:\n",
    "                writer = csv.writer(file)\n",
    "                writer.writerow(line.split())"
   ]
  },
  {
   "cell_type": "code",
   "execution_count": 46,
   "metadata": {},
   "outputs": [
    {
     "data": {
      "text/html": [
       "<div>\n",
       "<style scoped>\n",
       "    .dataframe tbody tr th:only-of-type {\n",
       "        vertical-align: middle;\n",
       "    }\n",
       "\n",
       "    .dataframe tbody tr th {\n",
       "        vertical-align: top;\n",
       "    }\n",
       "\n",
       "    .dataframe thead th {\n",
       "        text-align: right;\n",
       "    }\n",
       "</style>\n",
       "<table border=\"1\" class=\"dataframe\">\n",
       "  <thead>\n",
       "    <tr style=\"text-align: right;\">\n",
       "      <th></th>\n",
       "      <th>zero_crossing_rate</th>\n",
       "      <th>spectral_centroid</th>\n",
       "      <th>spectral_bandwidth</th>\n",
       "      <th>spectral_rolloff</th>\n",
       "      <th>mfcc1</th>\n",
       "      <th>mfcc2</th>\n",
       "      <th>mfcc3</th>\n",
       "      <th>mfcc4</th>\n",
       "      <th>mfcc5</th>\n",
       "      <th>mfcc6</th>\n",
       "      <th>...</th>\n",
       "      <th>mfcc12</th>\n",
       "      <th>mfcc13</th>\n",
       "      <th>mfcc14</th>\n",
       "      <th>mfcc15</th>\n",
       "      <th>mfcc16</th>\n",
       "      <th>mfcc17</th>\n",
       "      <th>mfcc18</th>\n",
       "      <th>mfcc19</th>\n",
       "      <th>mfcc20</th>\n",
       "      <th>label</th>\n",
       "    </tr>\n",
       "  </thead>\n",
       "  <tbody>\n",
       "    <tr>\n",
       "      <th>0</th>\n",
       "      <td>0.046570</td>\n",
       "      <td>1443.678582</td>\n",
       "      <td>1726.412512</td>\n",
       "      <td>3286.321795</td>\n",
       "      <td>-90.707569</td>\n",
       "      <td>128.052067</td>\n",
       "      <td>-34.784228</td>\n",
       "      <td>73.780840</td>\n",
       "      <td>4.324888</td>\n",
       "      <td>28.106828</td>\n",
       "      <td>...</td>\n",
       "      <td>5.680119</td>\n",
       "      <td>-6.765613</td>\n",
       "      <td>-0.474510</td>\n",
       "      <td>-0.283712</td>\n",
       "      <td>5.873021</td>\n",
       "      <td>-3.958959</td>\n",
       "      <td>-1.296033</td>\n",
       "      <td>3.513313</td>\n",
       "      <td>-1.251131</td>\n",
       "      <td>metal</td>\n",
       "    </tr>\n",
       "    <tr>\n",
       "      <th>1</th>\n",
       "      <td>0.108007</td>\n",
       "      <td>2375.812595</td>\n",
       "      <td>2231.960229</td>\n",
       "      <td>4898.745378</td>\n",
       "      <td>-66.648848</td>\n",
       "      <td>88.340498</td>\n",
       "      <td>-27.537220</td>\n",
       "      <td>53.171481</td>\n",
       "      <td>-9.188600</td>\n",
       "      <td>27.955177</td>\n",
       "      <td>...</td>\n",
       "      <td>13.676217</td>\n",
       "      <td>-8.358881</td>\n",
       "      <td>7.963045</td>\n",
       "      <td>-6.292233</td>\n",
       "      <td>8.112967</td>\n",
       "      <td>-4.970684</td>\n",
       "      <td>6.161912</td>\n",
       "      <td>0.377701</td>\n",
       "      <td>2.701730</td>\n",
       "      <td>metal</td>\n",
       "    </tr>\n",
       "    <tr>\n",
       "      <th>2</th>\n",
       "      <td>0.092420</td>\n",
       "      <td>1988.120374</td>\n",
       "      <td>1986.988534</td>\n",
       "      <td>4148.191583</td>\n",
       "      <td>-129.700196</td>\n",
       "      <td>104.034397</td>\n",
       "      <td>-26.972440</td>\n",
       "      <td>68.271098</td>\n",
       "      <td>2.435363</td>\n",
       "      <td>22.608912</td>\n",
       "      <td>...</td>\n",
       "      <td>5.377908</td>\n",
       "      <td>-3.004201</td>\n",
       "      <td>2.977995</td>\n",
       "      <td>-5.836916</td>\n",
       "      <td>3.937055</td>\n",
       "      <td>-6.004716</td>\n",
       "      <td>-1.969018</td>\n",
       "      <td>2.388182</td>\n",
       "      <td>-3.851088</td>\n",
       "      <td>metal</td>\n",
       "    </tr>\n",
       "    <tr>\n",
       "      <th>3</th>\n",
       "      <td>0.115765</td>\n",
       "      <td>2241.314038</td>\n",
       "      <td>2115.702650</td>\n",
       "      <td>4490.464513</td>\n",
       "      <td>-95.311522</td>\n",
       "      <td>92.069453</td>\n",
       "      <td>-28.057869</td>\n",
       "      <td>52.800290</td>\n",
       "      <td>-3.014751</td>\n",
       "      <td>25.402716</td>\n",
       "      <td>...</td>\n",
       "      <td>11.697475</td>\n",
       "      <td>-9.264784</td>\n",
       "      <td>2.808078</td>\n",
       "      <td>-4.432126</td>\n",
       "      <td>5.501777</td>\n",
       "      <td>-6.275822</td>\n",
       "      <td>3.836044</td>\n",
       "      <td>-0.416936</td>\n",
       "      <td>4.665856</td>\n",
       "      <td>metal</td>\n",
       "    </tr>\n",
       "    <tr>\n",
       "      <th>4</th>\n",
       "      <td>0.169265</td>\n",
       "      <td>2986.705162</td>\n",
       "      <td>2459.025706</td>\n",
       "      <td>5818.223151</td>\n",
       "      <td>-76.752619</td>\n",
       "      <td>68.002615</td>\n",
       "      <td>-11.241135</td>\n",
       "      <td>76.365832</td>\n",
       "      <td>-17.468196</td>\n",
       "      <td>25.335778</td>\n",
       "      <td>...</td>\n",
       "      <td>12.519486</td>\n",
       "      <td>-18.505018</td>\n",
       "      <td>10.831523</td>\n",
       "      <td>-13.698643</td>\n",
       "      <td>4.864020</td>\n",
       "      <td>-11.976661</td>\n",
       "      <td>1.647740</td>\n",
       "      <td>-7.643869</td>\n",
       "      <td>2.225926</td>\n",
       "      <td>metal</td>\n",
       "    </tr>\n",
       "  </tbody>\n",
       "</table>\n",
       "<p>5 rows × 25 columns</p>\n",
       "</div>"
      ],
      "text/plain": [
       "   zero_crossing_rate  spectral_centroid  spectral_bandwidth  \\\n",
       "0            0.046570        1443.678582         1726.412512   \n",
       "1            0.108007        2375.812595         2231.960229   \n",
       "2            0.092420        1988.120374         1986.988534   \n",
       "3            0.115765        2241.314038         2115.702650   \n",
       "4            0.169265        2986.705162         2459.025706   \n",
       "\n",
       "   spectral_rolloff       mfcc1       mfcc2      mfcc3      mfcc4      mfcc5  \\\n",
       "0       3286.321795  -90.707569  128.052067 -34.784228  73.780840   4.324888   \n",
       "1       4898.745378  -66.648848   88.340498 -27.537220  53.171481  -9.188600   \n",
       "2       4148.191583 -129.700196  104.034397 -26.972440  68.271098   2.435363   \n",
       "3       4490.464513  -95.311522   92.069453 -28.057869  52.800290  -3.014751   \n",
       "4       5818.223151  -76.752619   68.002615 -11.241135  76.365832 -17.468196   \n",
       "\n",
       "       mfcc6  ...       mfcc12     mfcc13     mfcc14     mfcc15    mfcc16  \\\n",
       "0  28.106828  ...     5.680119  -6.765613  -0.474510  -0.283712  5.873021   \n",
       "1  27.955177  ...    13.676217  -8.358881   7.963045  -6.292233  8.112967   \n",
       "2  22.608912  ...     5.377908  -3.004201   2.977995  -5.836916  3.937055   \n",
       "3  25.402716  ...    11.697475  -9.264784   2.808078  -4.432126  5.501777   \n",
       "4  25.335778  ...    12.519486 -18.505018  10.831523 -13.698643  4.864020   \n",
       "\n",
       "      mfcc17    mfcc18    mfcc19    mfcc20  label  \n",
       "0  -3.958959 -1.296033  3.513313 -1.251131  metal  \n",
       "1  -4.970684  6.161912  0.377701  2.701730  metal  \n",
       "2  -6.004716 -1.969018  2.388182 -3.851088  metal  \n",
       "3  -6.275822  3.836044 -0.416936  4.665856  metal  \n",
       "4 -11.976661  1.647740 -7.643869  2.225926  metal  \n",
       "\n",
       "[5 rows x 25 columns]"
      ]
     },
     "execution_count": 46,
     "metadata": {},
     "output_type": "execute_result"
    }
   ],
   "source": [
    "data = pd.read_csv(data_path)\n",
    "data.drop(data.columns[[0]], axis=1, inplace=True)\n",
    "data.drop(data.columns[[0]], axis=1, inplace=True)\n",
    "data.drop(data.columns[[0]], axis=1, inplace=True)\n",
    "data.head()"
   ]
  },
  {
   "cell_type": "code",
   "execution_count": 55,
   "metadata": {},
   "outputs": [],
   "source": [
    "enc = LabelEncoder()\n",
    "sc = StandardScaler()\n",
    "y = enc.fit_transform(data.iloc[:, -1])\n",
    "X = sc.fit_transform(np.array(data.iloc[:,:-1], dtype=float))\n",
    "X_train, X_test, y_train, y_test = train_test_split(X,y,test_size=0.15)"
   ]
  },
  {
   "cell_type": "code",
   "execution_count": 56,
   "metadata": {},
   "outputs": [
    {
     "name": "stdout",
     "output_type": "stream",
     "text": [
      "(850, 24) (850,)\n",
      "(150, 24) (150,)\n"
     ]
    }
   ],
   "source": [
    "print(X_train.shape, y_train.shape)\n",
    "print(X_test.shape, y_test.shape)"
   ]
  },
  {
   "cell_type": "code",
   "execution_count": 61,
   "metadata": {},
   "outputs": [
    {
     "data": {
      "text/plain": [
       "0.42"
      ]
     },
     "execution_count": 61,
     "metadata": {},
     "output_type": "execute_result"
    }
   ],
   "source": [
    "classifier = svm.SVC(kernel='linear' , C=0.01)\n",
    "classifier.fit(X_train, y_train)\n",
    "prediction_SVM = classifier.predict(X_test)\n",
    "classifier.score(X_test, y_test)"
   ]
  },
  {
   "cell_type": "code",
   "execution_count": 62,
   "metadata": {},
   "outputs": [
    {
     "data": {
      "image/png": "[encoded data removed]",
      "text/plain": [
       "<Figure size 432x288 with 2 Axes>"
      ]
     },
     "metadata": {
      "needs_background": "light"
     },
     "output_type": "display_data"
    }
   ],
   "source": [
    "import seaborn as sns\n",
    "mat = confusion_matrix(y_test, prediction_SVM)\n",
    "sns.heatmap(mat, square=True, annot=False, cbar=True)\n",
    "plt.xlabel('predicted value')\n",
    "plt.ylabel('true value')\n",
    "plt.show()"
   ]
  },
  {
   "cell_type": "code",
   "execution_count": 65,
   "metadata": {},
   "outputs": [
    {
     "name": "stdout",
     "output_type": "stream",
     "text": [
      "0.54\n"
     ]
    },
    {
     "data": {
      "image/png": "[encoded data removed]",
      "text/plain": [
       "<Figure size 432x288 with 2 Axes>"
      ]
     },
     "metadata": {
      "needs_background": "light"
     },
     "output_type": "display_data"
    }
   ],
   "source": [
    "random_forest = RandomForestClassifier(n_estimators=15,)\n",
    "random_forest.fit(X_train,y_train)\n",
    "print(random_forest.score(X_test,y_test))\n",
    "prediction_RF = random_forest.predict(X_test)\n",
    "mat2 = confusion_matrix(y_test, prediction_RF)\n",
    "sns.heatmap(mat2, square=True, annot=False, cbar=True)\n",
    "plt.xlabel('predicted value')\n",
    "plt.ylabel('true value')\n",
    "plt.show()"
   ]
  },
  {
   "cell_type": "code",
   "execution_count": 67,
   "metadata": {},
   "outputs": [
    {
     "name": "stdout",
     "output_type": "stream",
     "text": [
      "0.30666666666666664\n"
     ]
    },
    {
     "data": {
      "image/png": "[encoded data removed]",
      "text/plain": [
       "<Figure size 432x288 with 2 Axes>"
      ]
     },
     "metadata": {
      "needs_background": "light"
     },
     "output_type": "display_data"
    }
   ],
   "source": [
    "AdaBoost = AdaBoostClassifier(learning_rate=0.1)\n",
    "AdaBoost.fit(X_train, y_train)\n",
    "print(AdaBoost.score(X_test, y_test))\n",
    "prediction_AdaBoost = AdaBoost.predict(X_test)\n",
    "mat3 = confusion_matrix(y_test, prediction_AdaBoost)\n",
    "sns.heatmap(mat3, square=True, annot=False, cbar=True)\n",
    "plt.xlabel('predicted value')\n",
    "plt.ylabel('true value')\n",
    "plt.show()"
   ]
  },
  {
   "cell_type": "code",
   "execution_count": 92,
   "metadata": {},
   "outputs": [
    {
     "name": "stdout",
     "output_type": "stream",
     "text": [
      "Epoch 1/50\n",
      "850/850 [==============================] - 1s 611us/step - loss: 2.1940 - acc: 0.2165\n",
      "Epoch 2/50\n",
      "850/850 [==============================] - 0s 27us/step - loss: 1.9031 - acc: 0.3541\n",
      "Epoch 3/50\n",
      "850/850 [==============================] - 0s 22us/step - loss: 1.6885 - acc: 0.4012\n",
      "Epoch 4/50\n",
      "850/850 [==============================] - 0s 26us/step - loss: 1.5289 - acc: 0.4541\n",
      "Epoch 5/50\n",
      "850/850 [==============================] - 0s 21us/step - loss: 1.3920 - acc: 0.5012\n",
      "Epoch 6/50\n",
      "850/850 [==============================] - 0s 23us/step - loss: 1.2849 - acc: 0.5541\n",
      "Epoch 7/50\n",
      "850/850 [==============================] - 0s 26us/step - loss: 1.2113 - acc: 0.5812\n",
      "Epoch 8/50\n",
      "850/850 [==============================] - 0s 25us/step - loss: 1.1241 - acc: 0.6129\n",
      "Epoch 9/50\n",
      "850/850 [==============================] - 0s 25us/step - loss: 1.0663 - acc: 0.6388\n",
      "Epoch 10/50\n",
      "850/850 [==============================] - 0s 27us/step - loss: 1.0021 - acc: 0.6694\n",
      "Epoch 11/50\n",
      "850/850 [==============================] - 0s 31us/step - loss: 0.9571 - acc: 0.6776\n",
      "Epoch 12/50\n",
      "850/850 [==============================] - 0s 35us/step - loss: 0.9032 - acc: 0.7106\n",
      "Epoch 13/50\n",
      "850/850 [==============================] - 0s 32us/step - loss: 0.8707 - acc: 0.7129\n",
      "Epoch 14/50\n",
      "850/850 [==============================] - 0s 28us/step - loss: 0.8358 - acc: 0.7353\n",
      "Epoch 15/50\n",
      "850/850 [==============================] - 0s 32us/step - loss: 0.7935 - acc: 0.7506\n",
      "Epoch 16/50\n",
      "850/850 [==============================] - 0s 29us/step - loss: 0.7625 - acc: 0.7576\n",
      "Epoch 17/50\n",
      "850/850 [==============================] - 0s 27us/step - loss: 0.7406 - acc: 0.7694\n",
      "Epoch 18/50\n",
      "850/850 [==============================] - 0s 31us/step - loss: 0.7090 - acc: 0.7729\n",
      "Epoch 19/50\n",
      "850/850 [==============================] - 0s 26us/step - loss: 0.6750 - acc: 0.7859\n",
      "Epoch 20/50\n",
      "850/850 [==============================] - 0s 25us/step - loss: 0.6489 - acc: 0.7906\n",
      "Epoch 21/50\n",
      "850/850 [==============================] - 0s 27us/step - loss: 0.6246 - acc: 0.7988\n",
      "Epoch 22/50\n",
      "850/850 [==============================] - 0s 29us/step - loss: 0.6008 - acc: 0.8118\n",
      "Epoch 23/50\n",
      "850/850 [==============================] - 0s 27us/step - loss: 0.5833 - acc: 0.8165\n",
      "Epoch 24/50\n",
      "850/850 [==============================] - 0s 25us/step - loss: 0.5538 - acc: 0.8388\n",
      "Epoch 25/50\n",
      "850/850 [==============================] - 0s 28us/step - loss: 0.5368 - acc: 0.8459\n",
      "Epoch 26/50\n",
      "850/850 [==============================] - 0s 26us/step - loss: 0.5130 - acc: 0.8482\n",
      "Epoch 27/50\n",
      "850/850 [==============================] - 0s 27us/step - loss: 0.4893 - acc: 0.8671\n",
      "Epoch 28/50\n",
      "850/850 [==============================] - 0s 25us/step - loss: 0.4762 - acc: 0.8600\n",
      "Epoch 29/50\n",
      "850/850 [==============================] - 0s 26us/step - loss: 0.4610 - acc: 0.8776\n",
      "Epoch 30/50\n",
      "850/850 [==============================] - 0s 27us/step - loss: 0.4368 - acc: 0.8718\n",
      "Epoch 31/50\n",
      "850/850 [==============================] - 0s 25us/step - loss: 0.4154 - acc: 0.8906\n",
      "Epoch 32/50\n",
      "850/850 [==============================] - 0s 34us/step - loss: 0.4018 - acc: 0.8824\n",
      "Epoch 33/50\n",
      "850/850 [==============================] - 0s 27us/step - loss: 0.3839 - acc: 0.9094\n",
      "Epoch 34/50\n",
      "850/850 [==============================] - 0s 31us/step - loss: 0.3594 - acc: 0.9000\n",
      "Epoch 35/50\n",
      "850/850 [==============================] - 0s 38us/step - loss: 0.3465 - acc: 0.9224\n",
      "Epoch 36/50\n",
      "850/850 [==============================] - 0s 27us/step - loss: 0.3307 - acc: 0.9235\n",
      "Epoch 37/50\n",
      "850/850 [==============================] - 0s 33us/step - loss: 0.3107 - acc: 0.9341\n",
      "Epoch 38/50\n",
      "850/850 [==============================] - 0s 30us/step - loss: 0.2972 - acc: 0.9388\n",
      "Epoch 39/50\n",
      "850/850 [==============================] - 0s 26us/step - loss: 0.2812 - acc: 0.9400\n",
      "Epoch 40/50\n",
      "850/850 [==============================] - 0s 23us/step - loss: 0.2654 - acc: 0.9424\n",
      "Epoch 41/50\n",
      "850/850 [==============================] - 0s 29us/step - loss: 0.2527 - acc: 0.9482\n",
      "Epoch 42/50\n",
      "850/850 [==============================] - 0s 28us/step - loss: 0.2400 - acc: 0.9518\n",
      "Epoch 43/50\n",
      "850/850 [==============================] - 0s 29us/step - loss: 0.2315 - acc: 0.9612\n",
      "Epoch 44/50\n",
      "850/850 [==============================] - 0s 26us/step - loss: 0.2182 - acc: 0.9635\n",
      "Epoch 45/50\n",
      "850/850 [==============================] - 0s 27us/step - loss: 0.2023 - acc: 0.9706\n",
      "Epoch 46/50\n",
      "850/850 [==============================] - 0s 27us/step - loss: 0.1985 - acc: 0.9671\n",
      "Epoch 47/50\n",
      "850/850 [==============================] - 0s 31us/step - loss: 0.1812 - acc: 0.9765\n",
      "Epoch 48/50\n",
      "850/850 [==============================] - 0s 25us/step - loss: 0.1717 - acc: 0.9765\n",
      "Epoch 49/50\n",
      "850/850 [==============================] - 0s 27us/step - loss: 0.1604 - acc: 0.9753\n",
      "Epoch 50/50\n",
      "850/850 [==============================] - 0s 26us/step - loss: 0.1520 - acc: 0.9835\n"
     ]
    }
   ],
   "source": [
    "from keras import models\n",
    "from keras import layers\n",
    "model = models.Sequential()\n",
    "model.add(layers.Dense(256, activation='relu', input_shape=(X_train.shape[1],)))\n",
    "model.add(layers.Dense(128, activation='relu'))\n",
    "model.add(layers.Dense(64, activation='relu'))\n",
    "model.add(layers.Dense(10, activation='softmax'))\n",
    "model.compile(optimizer='adam',\n",
    "             loss = 'sparse_categorical_crossentropy',\n",
    "             metrics = ['accuracy'])\n",
    "history = model.fit(X_train, y_train, epochs=50, batch_size=128)"
   ]
  },
  {
   "cell_type": "code",
   "execution_count": 93,
   "metadata": {},
   "outputs": [
    {
     "name": "stdout",
     "output_type": "stream",
     "text": [
      "150/150 [==============================] - 0s 984us/step\n",
      "0.6733333293596904\n"
     ]
    }
   ],
   "source": [
    "test_loss, test_accuracy = model.evaluate(X_test, y_test)\n",
    "print(test_accuracy)"
   ]
  },
  {
   "cell_type": "code",
   "execution_count": null,
   "metadata": {},
   "outputs": [],
   "source": []
  },
  {
   "cell_type": "code",
   "execution_count": null,
   "metadata": {},
   "outputs": [],
   "source": []
  }
 ],
 "metadata": {
  "kernelspec": {
   "display_name": "Python 3",
   "language": "python",
   "name": "python3"
  },
  "language_info": {
   "codemirror_mode": {
    "name": "ipython",
    "version": 3
   },
   "file_extension": ".py",
   "mimetype": "text/x-python",
   "name": "python",
   "nbconvert_exporter": "python",
   "pygments_lexer": "ipython3",
   "version": "3.7.1"
  }
 },
 "nbformat": 4,
 "nbformat_minor": 2
}
